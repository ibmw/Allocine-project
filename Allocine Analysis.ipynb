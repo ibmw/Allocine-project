{
 "cells": [
  {
   "cell_type": "markdown",
   "metadata": {},
   "source": [
    "# AlloCiné Analysis made by someone\n",
    "\n",
    "We had web scrape (see [the script here](https://github.com/ibmw/Allocine-project/Webscraping From AlloCine.ipynb)) the data from the AlloCiné website. AlloCiné is a company which provides information on French cinema and provide ratings from the press and from their users for a large number of movies.\n",
    "\n",
    "**Data description :**\n",
    "\n",
    "- `movie_title` : the movies title (in french)\n",
    "- `release_date`: the original release date\n",
    "- `re_release_date`: the re-release date\n",
    "- `duration`: the movies length\n",
    "- `genre` : the movies types (as an array, up to three different types)\n",
    "- `directors` : movies directors (as an array)\n",
    "- `actors` : main characters of the movies (as an array)\n",
    "- `nationality`: nationality of the movies (as an array)\n",
    "- `press_rating`: press ratings (from 0 to 5 stars)\n",
    "- `nber_press_vote`: number of press votes\n",
    "- `user_rating`:  AlloCiné users ratings (from 0 to 5 stars)\n",
    "- `nber_user_vote`: number of users votes\n",
    "\n",
    "If you are interested in, the data is available on one csv (brut and clean version) [allocine_dataset.zip](http://olivier-maillot.fr/wp-content/uploads/2017/08/allocine_dataset.zip) or in multiple csv files (clean version only) [allocine_rel-dataset.zip](http://olivier-maillot.fr/wp-content/uploads/2017/08/allocine_rel-dataset.zip)."
   ]
  },
  {
   "cell_type": "code",
   "execution_count": 1,
   "metadata": {
    "collapsed": true
   },
   "outputs": [],
   "source": [
    "# import libraries\n",
    "import pandas as pd\n",
    "import numpy as np\n",
    "import ast\n",
    "import matplotlib.pyplot as plt\n",
    "import seaborn as sns\n",
    "\n",
    "%matplotlib inline"
   ]
  },
  {
   "cell_type": "code",
   "execution_count": 2,
   "metadata": {
    "collapsed": true
   },
   "outputs": [],
   "source": [
    "# load the csv\n",
    "cols = ['actors', 'release_date', 're_release_date', 'directors', 'duration', 'genre', \n",
    "        'nationality', 'nber_press_vote', 'nber_user_vote',\n",
    "        'press_rating', 'user_rating', 'movie_title']\n",
    "allocine = pd.read_csv(\"allocine_brut.csv\", usecols=cols)"
   ]
  },
  {
   "cell_type": "code",
   "execution_count": 3,
   "metadata": {
    "collapsed": true
   },
   "outputs": [],
   "source": [
    "# convert strings to arrays\n",
    "allocine[\"actors\"] = allocine[\"actors\"].apply(ast.literal_eval)\n",
    "allocine[\"directors\"] = allocine[\"directors\"].apply(ast.literal_eval)\n",
    "allocine[\"genre\"] = allocine[\"genre\"].apply(ast.literal_eval)\n",
    "allocine[\"nationality\"] = allocine[\"nationality\"].apply(ast.literal_eval)"
   ]
  },
  {
   "cell_type": "code",
   "execution_count": 4,
   "metadata": {
    "collapsed": true
   },
   "outputs": [],
   "source": [
    "# convert date\n",
    "allocine.loc[:,\"re_release_date\"] = pd.to_datetime(allocine.loc[:,\"re_release_date\"])\n",
    "allocine.loc[:,\"release_date\"] = pd.to_datetime(allocine.loc[:,\"release_date\"])"
   ]
  },
  {
   "cell_type": "code",
   "execution_count": 5,
   "metadata": {
    "collapsed": true
   },
   "outputs": [],
   "source": [
    "# drop NaN values\n",
    "allocine = allocine.dropna(subset=[\"press_rating\", \"user_rating\"]).reset_index(drop=True)"
   ]
  },
  {
   "cell_type": "code",
   "execution_count": 6,
   "metadata": {
    "collapsed": true
   },
   "outputs": [],
   "source": [
    "# convert float to int \n",
    "allocine[[\"nber_user_vote\", \"nber_press_vote\"]] = allocine[[\"nber_user_vote\", \"nber_press_vote\"]].astype('int')"
   ]
  },
  {
   "cell_type": "code",
   "execution_count": 7,
   "metadata": {},
   "outputs": [
    {
     "data": {
      "text/html": [
       "<div>\n",
       "<style>\n",
       "    .dataframe thead tr:only-child th {\n",
       "        text-align: right;\n",
       "    }\n",
       "\n",
       "    .dataframe thead th {\n",
       "        text-align: left;\n",
       "    }\n",
       "\n",
       "    .dataframe tbody tr th {\n",
       "        vertical-align: top;\n",
       "    }\n",
       "</style>\n",
       "<table border=\"1\" class=\"dataframe\">\n",
       "  <thead>\n",
       "    <tr style=\"text-align: right;\">\n",
       "      <th></th>\n",
       "      <th>actors</th>\n",
       "      <th>re_release_date</th>\n",
       "      <th>release_date</th>\n",
       "      <th>directors</th>\n",
       "      <th>duration</th>\n",
       "      <th>genre</th>\n",
       "      <th>nationality</th>\n",
       "      <th>nber_press_vote</th>\n",
       "      <th>nber_user_vote</th>\n",
       "      <th>press_rating</th>\n",
       "      <th>user_rating</th>\n",
       "      <th>movie_title</th>\n",
       "    </tr>\n",
       "  </thead>\n",
       "  <tbody>\n",
       "    <tr>\n",
       "      <th>0</th>\n",
       "      <td>[Fionn Whitehead, Tom Glynn-Carney, Jack Lowden]</td>\n",
       "      <td>NaT</td>\n",
       "      <td>2017-07-19</td>\n",
       "      <td>[Christopher Nolan]</td>\n",
       "      <td>1h 47min</td>\n",
       "      <td>[Guerre]</td>\n",
       "      <td>[américain, français, britannique, néerlandais]</td>\n",
       "      <td>22</td>\n",
       "      <td>3021</td>\n",
       "      <td>4.1</td>\n",
       "      <td>4.3</td>\n",
       "      <td>Dunkerque</td>\n",
       "    </tr>\n",
       "    <tr>\n",
       "      <th>1</th>\n",
       "      <td>[Ansel Elgort, Kevin Spacey, Lily James]</td>\n",
       "      <td>NaT</td>\n",
       "      <td>2017-07-19</td>\n",
       "      <td>[Edgar Wright]</td>\n",
       "      <td>1h 53min</td>\n",
       "      <td>[Action, Policier, Thriller]</td>\n",
       "      <td>[britannique, américain]</td>\n",
       "      <td>20</td>\n",
       "      <td>980</td>\n",
       "      <td>3.7</td>\n",
       "      <td>4.1</td>\n",
       "      <td>Baby Driver</td>\n",
       "    </tr>\n",
       "    <tr>\n",
       "      <th>2</th>\n",
       "      <td>[Tom Holland, Michael Keaton, Robert Downey Jr.]</td>\n",
       "      <td>NaT</td>\n",
       "      <td>2017-07-12</td>\n",
       "      <td>[Jon Watts]</td>\n",
       "      <td>2h 14min</td>\n",
       "      <td>[Action, Aventure]</td>\n",
       "      <td>[américain]</td>\n",
       "      <td>23</td>\n",
       "      <td>3708</td>\n",
       "      <td>3.7</td>\n",
       "      <td>3.5</td>\n",
       "      <td>Spider-Man: Homecoming</td>\n",
       "    </tr>\n",
       "    <tr>\n",
       "      <th>3</th>\n",
       "      <td>[Emma Watson, Tom Hanks, John Boyega]</td>\n",
       "      <td>NaT</td>\n",
       "      <td>2017-07-12</td>\n",
       "      <td>[James Ponsoldt]</td>\n",
       "      <td>1h 50min</td>\n",
       "      <td>[Thriller, Drame]</td>\n",
       "      <td>[américain, émirati]</td>\n",
       "      <td>16</td>\n",
       "      <td>907</td>\n",
       "      <td>2.6</td>\n",
       "      <td>2.9</td>\n",
       "      <td>The Circle</td>\n",
       "    </tr>\n",
       "    <tr>\n",
       "      <th>4</th>\n",
       "      <td>[Thomas Solivérès, Tanya Lopert, Albert Delpy]</td>\n",
       "      <td>NaT</td>\n",
       "      <td>2017-07-19</td>\n",
       "      <td>[Frédéric Quiring]</td>\n",
       "      <td>1h 28min</td>\n",
       "      <td>[Comédie]</td>\n",
       "      <td>[français]</td>\n",
       "      <td>6</td>\n",
       "      <td>174</td>\n",
       "      <td>2.7</td>\n",
       "      <td>2.4</td>\n",
       "      <td>Sales Gosses</td>\n",
       "    </tr>\n",
       "  </tbody>\n",
       "</table>\n",
       "</div>"
      ],
      "text/plain": [
       "                                             actors re_release_date  \\\n",
       "0  [Fionn Whitehead, Tom Glynn-Carney, Jack Lowden]             NaT   \n",
       "1          [Ansel Elgort, Kevin Spacey, Lily James]             NaT   \n",
       "2  [Tom Holland, Michael Keaton, Robert Downey Jr.]             NaT   \n",
       "3             [Emma Watson, Tom Hanks, John Boyega]             NaT   \n",
       "4    [Thomas Solivérès, Tanya Lopert, Albert Delpy]             NaT   \n",
       "\n",
       "  release_date            directors  duration                         genre  \\\n",
       "0   2017-07-19  [Christopher Nolan]  1h 47min                      [Guerre]   \n",
       "1   2017-07-19       [Edgar Wright]  1h 53min  [Action, Policier, Thriller]   \n",
       "2   2017-07-12          [Jon Watts]  2h 14min            [Action, Aventure]   \n",
       "3   2017-07-12     [James Ponsoldt]  1h 50min             [Thriller, Drame]   \n",
       "4   2017-07-19   [Frédéric Quiring]  1h 28min                     [Comédie]   \n",
       "\n",
       "                                       nationality  nber_press_vote  \\\n",
       "0  [américain, français, britannique, néerlandais]               22   \n",
       "1                         [britannique, américain]               20   \n",
       "2                                      [américain]               23   \n",
       "3                             [américain, émirati]               16   \n",
       "4                                       [français]                6   \n",
       "\n",
       "   nber_user_vote  press_rating  user_rating             movie_title  \n",
       "0            3021           4.1          4.3               Dunkerque  \n",
       "1             980           3.7          4.1             Baby Driver  \n",
       "2            3708           3.7          3.5  Spider-Man: Homecoming  \n",
       "3             907           2.6          2.9              The Circle  \n",
       "4             174           2.7          2.4            Sales Gosses  "
      ]
     },
     "execution_count": 7,
     "metadata": {},
     "output_type": "execute_result"
    }
   ],
   "source": [
    "# quick look of the data\n",
    "allocine.head()"
   ]
  },
  {
   "cell_type": "markdown",
   "metadata": {},
   "source": [
    "# Section 1. Ratings Distributions\n",
    "\n",
    "## Plot the Distribution"
   ]
  },
  {
   "cell_type": "code",
   "execution_count": 88,
   "metadata": {},
   "outputs": [
    {
     "data": {
      "image/png": "[encoded data removed]",
      "text/plain": [
       "<matplotlib.figure.Figure at 0x110194ef0>"
      ]
     },
     "metadata": {},
     "output_type": "display_data"
    }
   ],
   "source": [
    "sns.set(style=\"white\", palette=\"deep\")\n",
    "\n",
    "fig, axes = plt.subplots(1, 3, figsize = (16,4))\n",
    "ax1, ax2, ax3 = fig.axes\n",
    "\n",
    "ax1.set_xlim([0.5,5.5])\n",
    "ax2.set_xlim([0.5,5.5])\n",
    "ax3.set_xlim([0.5,5.5])\n",
    "\n",
    "\n",
    "ax1.hist(allocine[\"press_rating\"], bins = 10, range = (0,5), color='C0') # bin range = 1\n",
    "ax1.set_title('Press Ratings Distribution')\n",
    "ax1.set_xlabel('Ratings')\n",
    "\n",
    "ax2.hist(allocine[\"user_rating\"], bins = 10, range = (0,5), color='C1') # bin range = 1\n",
    "ax2.set_title('Users Ratings Distribution')\n",
    "ax2.set_xlabel('Ratings')\n",
    "\n",
    "ax3.hist(allocine[\"press_rating\"], bins = 10, range = (0,5), histtype = 'step', \n",
    "         lw=1.5, label='Press Ratings', color='C0')\n",
    "ax3.hist(allocine[\"user_rating\"], bins = 10, range = (0,5), histtype = 'step', \n",
    "         lw=1.5, label='Users Ratings', color='C1')\n",
    "ax3.legend(loc = 'upper left')\n",
    "ax3.set_title('Comparison of Distributions')\n",
    "ax3.set_xlabel('Ratings')\n",
    "\n",
    "for ax in fig.axes:\n",
    "    ax.spines['top'].set_visible(False)\n",
    "    ax.spines['right'].set_visible(False)"
   ]
  },
  {
   "cell_type": "code",
   "execution_count": 89,
   "metadata": {
    "collapsed": true
   },
   "outputs": [],
   "source": [
    "# save the fig\n",
    "fig.savefig('allocine-0_hist.png', bbox_inches='tight', dpi=200)"
   ]
  },
  {
   "cell_type": "markdown",
   "metadata": {},
   "source": [
    "## Descriptive Statistics"
   ]
  },
  {
   "cell_type": "code",
   "execution_count": 10,
   "metadata": {
    "collapsed": true
   },
   "outputs": [],
   "source": [
    "# descriptive statistics\n",
    "desc_ratings = allocine[[\"user_rating\",\"press_rating\"]].describe().T"
   ]
  },
  {
   "cell_type": "code",
   "execution_count": 11,
   "metadata": {
    "collapsed": true
   },
   "outputs": [],
   "source": [
    "# compute the skewness\n",
    "from scipy.stats import skew\n",
    "from scipy.stats import skewtest\n",
    "desc_ratings.loc[\"press_rating\", \"skew\"] = skew(allocine[[\"press_rating\"]])\n",
    "v, p = skewtest(allocine[[\"press_rating\"]])\n",
    "desc_ratings.loc[\"press_rating\", \"skewtest\"] = (p < 0.05)\n",
    "desc_ratings.loc[\"user_rating\", \"skew\"] = skew(allocine[[\"user_rating\"]])\n",
    "v, p = skewtest(allocine[[\"user_rating\"]])\n",
    "desc_ratings.loc[\"user_rating\", \"skewtest\"] = (p < 0.05)"
   ]
  },
  {
   "cell_type": "code",
   "execution_count": 13,
   "metadata": {
    "collapsed": true
   },
   "outputs": [],
   "source": [
    "# compute the kurtosis\n",
    "from scipy.stats import kurtosis\n",
    "from scipy.stats import kurtosistest\n",
    "desc_ratings.loc[\"press_rating\", \"kurtosis\"] = kurtosis(allocine[[\"press_rating\"]], fisher=False)\n",
    "v, p = kurtosistest(allocine[[\"press_rating\"]])\n",
    "desc_ratings.loc[\"press_rating\", \"kurtosistest\"] = (p < 0.05)\n",
    "desc_ratings.loc[\"user_rating\", \"kurtosis\"] = kurtosis(allocine[[\"user_rating\"]], fisher=False)\n",
    "v, p = kurtosistest(allocine[[\"user_rating\"]])\n",
    "desc_ratings.loc[\"user_rating\", \"kurtosistest\"] = (p < 0.05)"
   ]
  },
  {
   "cell_type": "code",
   "execution_count": 14,
   "metadata": {},
   "outputs": [
    {
     "data": {
      "text/html": [
       "<div>\n",
       "<style>\n",
       "    .dataframe thead tr:only-child th {\n",
       "        text-align: right;\n",
       "    }\n",
       "\n",
       "    .dataframe thead th {\n",
       "        text-align: left;\n",
       "    }\n",
       "\n",
       "    .dataframe tbody tr th {\n",
       "        vertical-align: top;\n",
       "    }\n",
       "</style>\n",
       "<table border=\"1\" class=\"dataframe\">\n",
       "  <thead>\n",
       "    <tr style=\"text-align: right;\">\n",
       "      <th></th>\n",
       "      <th>count</th>\n",
       "      <th>mean</th>\n",
       "      <th>std</th>\n",
       "      <th>min</th>\n",
       "      <th>25%</th>\n",
       "      <th>50%</th>\n",
       "      <th>75%</th>\n",
       "      <th>max</th>\n",
       "      <th>skew</th>\n",
       "      <th>skewtest</th>\n",
       "      <th>kurtosis</th>\n",
       "      <th>kurtosistest</th>\n",
       "    </tr>\n",
       "  </thead>\n",
       "  <tbody>\n",
       "    <tr>\n",
       "      <th>user_rating</th>\n",
       "      <td>10424.0</td>\n",
       "      <td>3.119868</td>\n",
       "      <td>0.630107</td>\n",
       "      <td>0.9</td>\n",
       "      <td>2.7</td>\n",
       "      <td>3.2</td>\n",
       "      <td>3.6</td>\n",
       "      <td>4.7</td>\n",
       "      <td>-0.400253</td>\n",
       "      <td>[True]</td>\n",
       "      <td>2.882644</td>\n",
       "      <td>[True]</td>\n",
       "    </tr>\n",
       "    <tr>\n",
       "      <th>press_rating</th>\n",
       "      <td>10424.0</td>\n",
       "      <td>3.207761</td>\n",
       "      <td>0.750909</td>\n",
       "      <td>1.0</td>\n",
       "      <td>2.7</td>\n",
       "      <td>3.2</td>\n",
       "      <td>3.7</td>\n",
       "      <td>5.0</td>\n",
       "      <td>0.007306</td>\n",
       "      <td>[False]</td>\n",
       "      <td>3.129742</td>\n",
       "      <td>[True]</td>\n",
       "    </tr>\n",
       "  </tbody>\n",
       "</table>\n",
       "</div>"
      ],
      "text/plain": [
       "                count      mean       std  min  25%  50%  75%  max      skew  \\\n",
       "user_rating   10424.0  3.119868  0.630107  0.9  2.7  3.2  3.6  4.7 -0.400253   \n",
       "press_rating  10424.0  3.207761  0.750909  1.0  2.7  3.2  3.7  5.0  0.007306   \n",
       "\n",
       "             skewtest  kurtosis kurtosistest  \n",
       "user_rating    [True]  2.882644       [True]  \n",
       "press_rating  [False]  3.129742       [True]  "
      ]
     },
     "execution_count": 14,
     "metadata": {},
     "output_type": "execute_result"
    }
   ],
   "source": [
    "# print the stats\n",
    "desc_ratings"
   ]
  },
  {
   "cell_type": "markdown",
   "metadata": {},
   "source": [
    "## Ratings Correlation"
   ]
  },
  {
   "cell_type": "code",
   "execution_count": 59,
   "metadata": {},
   "outputs": [
    {
     "data": {
      "image/png": "[encoded data removed]",
      "text/plain": [
       "<matplotlib.figure.Figure at 0x11edb56d8>"
      ]
     },
     "metadata": {},
     "output_type": "display_data"
    }
   ],
   "source": [
    "ax = sns.jointplot(x=\"press_rating\", y=\"user_rating\", \n",
    "                   data=allocine, kind=\"hex\",\n",
    "                   marginal_kws=dict(bins=20),\n",
    "                   xlim=(0.8,5.1), ylim=(0.8,5.1),\n",
    "                   size=7, space=0).set_axis_labels(\"Press Ratings\", \"Users Ratings\")"
   ]
  },
  {
   "cell_type": "code",
   "execution_count": 60,
   "metadata": {
    "collapsed": true
   },
   "outputs": [],
   "source": [
    "# save the fig\n",
    "ax.savefig('allocine-1_jointplot.png', bbox_inches='tight', dpi=200)"
   ]
  },
  {
   "cell_type": "markdown",
   "metadata": {},
   "source": [
    "# Section 2. Five Stars Movies Analysis\n",
    "\n",
    "The press seems to give much more hightest ratings than AlloCiné users. We need to dig a little bit more to see what happening here. In this section we use a subset of the data where press ratings are five stars. \n",
    "\n",
    "## Compare to users ratings"
   ]
  },
  {
   "cell_type": "code",
   "execution_count": 17,
   "metadata": {
    "collapsed": true
   },
   "outputs": [],
   "source": [
    "five_stars = allocine[allocine[\"press_rating\"] >= 5]"
   ]
  },
  {
   "cell_type": "code",
   "execution_count": 78,
   "metadata": {},
   "outputs": [
    {
     "data": {
      "image/png": "[encoded data removed]",
      "text/plain": [
       "<matplotlib.figure.Figure at 0x11f0abc88>"
      ]
     },
     "metadata": {},
     "output_type": "display_data"
    }
   ],
   "source": [
    "f, ax = plt.subplots(figsize=(15,6))\n",
    "f.suptitle('Movies with Five Stars From The Press', \n",
    "           fontsize=13)\n",
    "f.subplots_adjust(top=0.85)\n",
    "\n",
    "sns.countplot(five_stars[\"user_rating\"], ax=ax)\n",
    "ax.set_xlabel(\"Users Ratings\")\n",
    "ax.set_ylabel(\"\")\n",
    "sns.despine(top=True, right=True, left=False, bottom=False)"
   ]
  },
  {
   "cell_type": "code",
   "execution_count": 79,
   "metadata": {
    "collapsed": true
   },
   "outputs": [],
   "source": [
    "# save the fig\n",
    "f.savefig('allocine-2_hist5stars.png', bbox_inches='tight', dpi=200)"
   ]
  },
  {
   "cell_type": "code",
   "execution_count": 20,
   "metadata": {},
   "outputs": [
    {
     "data": {
      "text/html": [
       "<div>\n",
       "<style>\n",
       "    .dataframe thead tr:only-child th {\n",
       "        text-align: right;\n",
       "    }\n",
       "\n",
       "    .dataframe thead th {\n",
       "        text-align: left;\n",
       "    }\n",
       "\n",
       "    .dataframe tbody tr th {\n",
       "        vertical-align: top;\n",
       "    }\n",
       "</style>\n",
       "<table border=\"1\" class=\"dataframe\">\n",
       "  <thead>\n",
       "    <tr style=\"text-align: right;\">\n",
       "      <th></th>\n",
       "      <th>user_rating</th>\n",
       "    </tr>\n",
       "  </thead>\n",
       "  <tbody>\n",
       "    <tr>\n",
       "      <th>0.33</th>\n",
       "      <td>2.9</td>\n",
       "    </tr>\n",
       "    <tr>\n",
       "      <th>0.66</th>\n",
       "      <td>3.4</td>\n",
       "    </tr>\n",
       "  </tbody>\n",
       "</table>\n",
       "</div>"
      ],
      "text/plain": [
       "      user_rating\n",
       "0.33          2.9\n",
       "0.66          3.4"
      ]
     },
     "execution_count": 20,
     "metadata": {},
     "output_type": "execute_result"
    }
   ],
   "source": [
    "# print the first tier and second tier of the Users Ratings\n",
    "allocine[[\"user_rating\"]].quantile([.33,.66])"
   ]
  },
  {
   "cell_type": "code",
   "execution_count": 21,
   "metadata": {},
   "outputs": [
    {
     "name": "stdout",
     "output_type": "stream",
     "text": [
      "0.36 % of the movies with the highest press ratings received a low users ratings.\n"
     ]
    }
   ],
   "source": [
    "p = (len(five_stars[(five_stars[\"user_rating\"] < 2.9)]) / len(five_stars)) * 100\n",
    "print('{} % of the movies with the highest press ratings received a low users ratings.'.format(round(p, 2)))"
   ]
  },
  {
   "cell_type": "code",
   "execution_count": 22,
   "metadata": {},
   "outputs": [
    {
     "name": "stdout",
     "output_type": "stream",
     "text": [
      "10.91 % of the movies with the highest press ratings received a moderate users ratings.\n"
     ]
    }
   ],
   "source": [
    "p = (len(five_stars[(five_stars[\"user_rating\"] < 3.4) & (five_stars[\"user_rating\"] >= 2.9)]) / len(five_stars)) * 100\n",
    "print('{} % of the movies with the highest press ratings received a moderate users ratings.'.format(round(p, 2)))"
   ]
  },
  {
   "cell_type": "code",
   "execution_count": 23,
   "metadata": {},
   "outputs": [
    {
     "name": "stdout",
     "output_type": "stream",
     "text": [
      "88.73 % of the movies with the highest press ratings received a high users ratings.\n"
     ]
    }
   ],
   "source": [
    "p = (len(five_stars[five_stars[\"user_rating\"] >= 3.4]) / len(five_stars)) * 100\n",
    "print('{} % of the movies with the highest press ratings received a high users ratings.'.format(round(p, 2)))"
   ]
  },
  {
   "cell_type": "markdown",
   "metadata": {},
   "source": [
    "## Distribution Analysis of Five Stars Movies"
   ]
  },
  {
   "cell_type": "code",
   "execution_count": 80,
   "metadata": {},
   "outputs": [
    {
     "data": {
      "image/png": "[encoded data removed]",
      "text/plain": [
       "<matplotlib.figure.Figure at 0x11ed23cf8>"
      ]
     },
     "metadata": {},
     "output_type": "display_data"
    }
   ],
   "source": [
    "fig, axes = plt.subplots(1, 3, figsize = (16,4))\n",
    "fig.suptitle('Movies with Five Stars From The Press', fontsize=14, fontweight='bold')\n",
    "fig.subplots_adjust(top=0.75)\n",
    "ax1, ax2, ax3 = fig.axes\n",
    "\n",
    "# fig 1\n",
    "ax1.set_xlim([1925,2017])\n",
    "ax1.set_title(\"Distribution of Movies\\nby Year of Release\\n\")\n",
    "# years distribution of the five stars\n",
    "sns.distplot(five_stars[\"release_date\"].dt.year.dropna(), ax=ax1, \n",
    "             axlabel=\"Year of Release\", label=\"Five Stars Movies\", bins=10, \n",
    "             norm_hist=True, kde=False,\n",
    "             hist_kws={\"alpha\": 0.9, \"color\": \"C5\"})\n",
    "\n",
    "# years distribution of all the data\n",
    "sns.distplot(allocine[\"release_date\"].dt.year.dropna(), ax=ax1, \n",
    "             axlabel=\"Year of Release\", label=\"Full Dataset\", bins=10, \n",
    "             norm_hist=True, kde=False,\n",
    "             hist_kws={\"alpha\": 0.85, \"color\": \"C1\"})\n",
    "\n",
    "ax1.axvline(x=1997, color=\"C0\", label=\"Launch of AlloCiné\", linestyle=\"--\", linewidth=1.5)\n",
    "ax1.legend(loc = \"upper left\")\n",
    "\n",
    "# fig 2\n",
    "sns.countplot(five_stars[\"nber_press_vote\"], ax=ax2)\n",
    "ax2.set_xlabel(\"Number of Press Votes\")\n",
    "ax2.set_title(\"Distribution of Movies\\nby the Number of Press Votes\\n\")\n",
    "sns.despine(top=True, right=True, left=False, bottom=False)\n",
    "\n",
    "# fig 3\n",
    "# years distribution of all the data\n",
    "ax3.set_xlim([1935,2017])\n",
    "ax3.set_title(\"Distribution of Movies\\nwith only one Press Vote\\nby Year of Release\")\n",
    "# years distribution of the view\n",
    "fs_nbp = five_stars[five_stars[\"nber_press_vote\"] == 1]\n",
    "left97 = len(fs_nbp[fs_nbp[\"release_date\"].dt.year < 1997])\n",
    "right97 = len(fs_nbp[fs_nbp[\"release_date\"].dt.year >= 1997])\n",
    "sns.distplot(fs_nbp[\"release_date\"].dt.year.dropna(), ax=ax3, \n",
    "             axlabel=\"Year of Release\", label=\"Five Stars Movies\", bins=4, \n",
    "             norm_hist=False, kde=False,\n",
    "             hist_kws={\"alpha\": 0.9, \"color\": \"C5\"})\n",
    "\n",
    "ax3.text(1967, 10, '{}%'.format(round((left97 / (left97 + right97)) * 100, 1)), ha='center', va='bottom', color='C0')\n",
    "ax3.text(2007, 10, '{}%'.format(round((right97 / (left97 + right97)) * 100, 1)), ha='center', va='bottom', color='C0')\n",
    "ax3.axvline(x=1997, color=\"C0\", label=\"Launch of AlloCiné\", linestyle=\"--\", linewidth=1.5)\n",
    "ax3.legend(loc = \"upper left\");"
   ]
  },
  {
   "cell_type": "code",
   "execution_count": 81,
   "metadata": {
    "collapsed": true
   },
   "outputs": [],
   "source": [
    "# save the fig\n",
    "fig.savefig('allocine-3_5StarsByYear.png', bbox_inches='tight', dpi=200)"
   ]
  },
  {
   "cell_type": "markdown",
   "metadata": {},
   "source": [
    "# Section 3. General Ratings Comparaison\n",
    "## Rating Difference"
   ]
  },
  {
   "cell_type": "code",
   "execution_count": 29,
   "metadata": {
    "collapsed": true
   },
   "outputs": [],
   "source": [
    "allocine[\"diff_rating\"] = (allocine[\"press_rating\"] - allocine[\"user_rating\"]).abs()"
   ]
  },
  {
   "cell_type": "markdown",
   "metadata": {},
   "source": [
    "### Descriptive Statistics"
   ]
  },
  {
   "cell_type": "code",
   "execution_count": 30,
   "metadata": {},
   "outputs": [
    {
     "data": {
      "text/html": [
       "<div>\n",
       "<style>\n",
       "    .dataframe thead tr:only-child th {\n",
       "        text-align: right;\n",
       "    }\n",
       "\n",
       "    .dataframe thead th {\n",
       "        text-align: left;\n",
       "    }\n",
       "\n",
       "    .dataframe tbody tr th {\n",
       "        vertical-align: top;\n",
       "    }\n",
       "</style>\n",
       "<table border=\"1\" class=\"dataframe\">\n",
       "  <thead>\n",
       "    <tr style=\"text-align: right;\">\n",
       "      <th></th>\n",
       "      <th>count</th>\n",
       "      <th>mean</th>\n",
       "      <th>std</th>\n",
       "      <th>min</th>\n",
       "      <th>25%</th>\n",
       "      <th>50%</th>\n",
       "      <th>75%</th>\n",
       "      <th>max</th>\n",
       "    </tr>\n",
       "  </thead>\n",
       "  <tbody>\n",
       "    <tr>\n",
       "      <th>diff_rating</th>\n",
       "      <td>10424.0</td>\n",
       "      <td>0.553972</td>\n",
       "      <td>0.429605</td>\n",
       "      <td>0.0</td>\n",
       "      <td>0.2</td>\n",
       "      <td>0.5</td>\n",
       "      <td>0.8</td>\n",
       "      <td>2.9</td>\n",
       "    </tr>\n",
       "  </tbody>\n",
       "</table>\n",
       "</div>"
      ],
      "text/plain": [
       "               count      mean       std  min  25%  50%  75%  max\n",
       "diff_rating  10424.0  0.553972  0.429605  0.0  0.2  0.5  0.8  2.9"
      ]
     },
     "execution_count": 30,
     "metadata": {},
     "output_type": "execute_result"
    }
   ],
   "source": [
    "# Descriptive statistics\n",
    "allocine[[\"diff_rating\"]].describe().T"
   ]
  },
  {
   "cell_type": "markdown",
   "metadata": {},
   "source": [
    "### Ploting the Distribution"
   ]
  },
  {
   "cell_type": "code",
   "execution_count": 65,
   "metadata": {},
   "outputs": [
    {
     "data": {
      "image/png": "[encoded data removed]",
      "text/plain": [
       "<matplotlib.figure.Figure at 0x11f0478d0>"
      ]
     },
     "metadata": {},
     "output_type": "display_data"
    }
   ],
   "source": [
    "f, ax = plt.subplots(1, 3, figsize = (16,4))\n",
    "f.suptitle('Distribution of Difference Between Ratings', \n",
    "           fontsize=14, fontweight='bold')\n",
    "f.subplots_adjust(top=0.75)\n",
    "ax1, ax2, ax3 = f.axes\n",
    "\n",
    "ax1.set_xlim([0,3])\n",
    "ax1.set_title(\"Distribution for\\nUsers Ratings < Press Ratings\")\n",
    "sns.distplot(allocine.loc[allocine[\"user_rating\"] < allocine[\"press_rating\"], \"diff_rating\"], ax=ax1, bins=7, \n",
    "             norm_hist=True, kde=False,\n",
    "             hist_kws={\"alpha\": 0.85, \"color\": \"C0\"})\n",
    "\n",
    "ax1.set_xlabel(\"Absolute Difference\")\n",
    "\n",
    "ax2.set_xlim([0,3])\n",
    "ax2.set_title(\"Distribution for\\nUsers Ratings > Press Ratings\")\n",
    "sns.distplot(allocine.loc[allocine[\"user_rating\"] > allocine[\"press_rating\"], \"diff_rating\"], ax=ax2, bins=7, \n",
    "             norm_hist=True, kde=False,\n",
    "             hist_kws={\"alpha\": 0.85, \"color\": \"C2\"})\n",
    "ax2.set_xlabel(\"Absolute Difference\")\n",
    "\n",
    "ax3.set_xlim([0,3])\n",
    "ax3.set_title(\"Distribution of absolute difference for\\nall the data\")\n",
    "sns.distplot(allocine.loc[:, \"diff_rating\"], ax=ax3, bins=7, \n",
    "             norm_hist=True, kde=False,\n",
    "             hist_kws={\"alpha\": 0.85, \"color\": \"C1\"})\n",
    "ax3.set_xlabel(\"Absolute Difference\")\n",
    "\n",
    "sns.despine(top=True, right=True, left=False, bottom=False)"
   ]
  },
  {
   "cell_type": "code",
   "execution_count": 66,
   "metadata": {
    "collapsed": true
   },
   "outputs": [],
   "source": [
    "# save the fig\n",
    "f.savefig('allocine-4_abs-diff-rating.png', bbox_inches='tight', dpi=200)"
   ]
  },
  {
   "cell_type": "code",
   "execution_count": 36,
   "metadata": {},
   "outputs": [
    {
     "name": "stdout",
     "output_type": "stream",
     "text": [
      "For 52.64 % of the movies, the press rating is higher than the user rating.\n"
     ]
    }
   ],
   "source": [
    "x = round((len(allocine.loc[allocine[\"user_rating\"] < allocine[\"press_rating\"], \"diff_rating\"]) / len(allocine.loc[:, \"diff_rating\"])) * 100, 2)\n",
    "print('For {} % of the movies, the press rating is higher than the user rating.'.format(x))"
   ]
  },
  {
   "cell_type": "code",
   "execution_count": 38,
   "metadata": {},
   "outputs": [
    {
     "name": "stdout",
     "output_type": "stream",
     "text": [
      "For 41.73 % of the movies, the user rating is higher than the press rating.\n"
     ]
    }
   ],
   "source": [
    "x = round((len(allocine.loc[allocine[\"user_rating\"] > allocine[\"press_rating\"], \"diff_rating\"]) / len(allocine.loc[:, \"diff_rating\"])) * 100, 2)\n",
    "print('For {} % of the movies, the user rating is higher than the press rating.'.format(x))"
   ]
  },
  {
   "cell_type": "code",
   "execution_count": 39,
   "metadata": {},
   "outputs": [
    {
     "name": "stdout",
     "output_type": "stream",
     "text": [
      "5.63 % of the movies reveived the same rating from the press and the user.\n"
     ]
    }
   ],
   "source": [
    "x = round((len(allocine[allocine[\"diff_rating\"] == 0]) / len(allocine.loc[:, \"diff_rating\"])) * 100, 2)\n",
    "print('{} % of the movies reveived the same rating from the press and the user.'.format(x))"
   ]
  },
  {
   "cell_type": "code",
   "execution_count": 40,
   "metadata": {},
   "outputs": [
    {
     "data": {
      "text/html": [
       "<div>\n",
       "<style>\n",
       "    .dataframe thead tr:only-child th {\n",
       "        text-align: right;\n",
       "    }\n",
       "\n",
       "    .dataframe thead th {\n",
       "        text-align: left;\n",
       "    }\n",
       "\n",
       "    .dataframe tbody tr th {\n",
       "        vertical-align: top;\n",
       "    }\n",
       "</style>\n",
       "<table border=\"1\" class=\"dataframe\">\n",
       "  <thead>\n",
       "    <tr style=\"text-align: right;\">\n",
       "      <th></th>\n",
       "      <th>movie_title</th>\n",
       "      <th>user_rating</th>\n",
       "      <th>press_rating</th>\n",
       "      <th>diff_rating</th>\n",
       "      <th>nber_press_vote</th>\n",
       "      <th>nber_user_vote</th>\n",
       "    </tr>\n",
       "  </thead>\n",
       "  <tbody>\n",
       "    <tr>\n",
       "      <th>305</th>\n",
       "      <td>Django Unchained</td>\n",
       "      <td>4.5</td>\n",
       "      <td>4.5</td>\n",
       "      <td>0.0</td>\n",
       "      <td>33</td>\n",
       "      <td>50376</td>\n",
       "    </tr>\n",
       "    <tr>\n",
       "      <th>1543</th>\n",
       "      <td>Edward aux mains d'argent</td>\n",
       "      <td>4.4</td>\n",
       "      <td>4.4</td>\n",
       "      <td>0.0</td>\n",
       "      <td>5</td>\n",
       "      <td>54461</td>\n",
       "    </tr>\n",
       "    <tr>\n",
       "      <th>780</th>\n",
       "      <td>Il était une fois dans l'Ouest</td>\n",
       "      <td>4.4</td>\n",
       "      <td>4.4</td>\n",
       "      <td>0.0</td>\n",
       "      <td>8</td>\n",
       "      <td>17931</td>\n",
       "    </tr>\n",
       "    <tr>\n",
       "      <th>3148</th>\n",
       "      <td>Boulevard du crépuscule</td>\n",
       "      <td>4.4</td>\n",
       "      <td>4.4</td>\n",
       "      <td>0.0</td>\n",
       "      <td>9</td>\n",
       "      <td>1453</td>\n",
       "    </tr>\n",
       "    <tr>\n",
       "      <th>119</th>\n",
       "      <td>Ma Vie De Courgette</td>\n",
       "      <td>4.4</td>\n",
       "      <td>4.4</td>\n",
       "      <td>0.0</td>\n",
       "      <td>30</td>\n",
       "      <td>1898</td>\n",
       "    </tr>\n",
       "  </tbody>\n",
       "</table>\n",
       "</div>"
      ],
      "text/plain": [
       "                         movie_title  user_rating  press_rating  diff_rating  \\\n",
       "305                 Django Unchained          4.5           4.5          0.0   \n",
       "1543       Edward aux mains d'argent          4.4           4.4          0.0   \n",
       "780   Il était une fois dans l'Ouest          4.4           4.4          0.0   \n",
       "3148         Boulevard du crépuscule          4.4           4.4          0.0   \n",
       "119              Ma Vie De Courgette          4.4           4.4          0.0   \n",
       "\n",
       "      nber_press_vote  nber_user_vote  \n",
       "305                33           50376  \n",
       "1543                5           54461  \n",
       "780                 8           17931  \n",
       "3148                9            1453  \n",
       "119                30            1898  "
      ]
     },
     "execution_count": 40,
     "metadata": {},
     "output_type": "execute_result"
    }
   ],
   "source": [
    "# top Movies where users rating and press rating are the same\n",
    "allocine[allocine[\"diff_rating\"] == 0].sort_values(by=\"user_rating\", \n",
    "                                                   ascending=False)[[\"movie_title\", \"user_rating\", \n",
    "                                                                     \"press_rating\", \"diff_rating\", \n",
    "                                                                     \"nber_press_vote\", \"nber_user_vote\"]].head(5)"
   ]
  },
  {
   "cell_type": "markdown",
   "metadata": {},
   "source": [
    "## Movie with highest ratings differences\n",
    "### Press Rating higher than User Rating"
   ]
  },
  {
   "cell_type": "code",
   "execution_count": 41,
   "metadata": {},
   "outputs": [
    {
     "data": {
      "text/html": [
       "<div>\n",
       "<style>\n",
       "    .dataframe thead tr:only-child th {\n",
       "        text-align: right;\n",
       "    }\n",
       "\n",
       "    .dataframe thead th {\n",
       "        text-align: left;\n",
       "    }\n",
       "\n",
       "    .dataframe tbody tr th {\n",
       "        vertical-align: top;\n",
       "    }\n",
       "</style>\n",
       "<table border=\"1\" class=\"dataframe\">\n",
       "  <thead>\n",
       "    <tr style=\"text-align: right;\">\n",
       "      <th></th>\n",
       "      <th>movie_title</th>\n",
       "      <th>user_rating</th>\n",
       "      <th>press_rating</th>\n",
       "      <th>diff_rating</th>\n",
       "      <th>nber_press_vote</th>\n",
       "      <th>nber_user_vote</th>\n",
       "    </tr>\n",
       "  </thead>\n",
       "  <tbody>\n",
       "    <tr>\n",
       "      <th>2750</th>\n",
       "      <td>Les Sept Samouraïs</td>\n",
       "      <td>1.7</td>\n",
       "      <td>4.6</td>\n",
       "      <td>2.9</td>\n",
       "      <td>14</td>\n",
       "      <td>92578</td>\n",
       "    </tr>\n",
       "    <tr>\n",
       "      <th>3430</th>\n",
       "      <td>L'Enfant</td>\n",
       "      <td>1.6</td>\n",
       "      <td>4.3</td>\n",
       "      <td>2.7</td>\n",
       "      <td>32</td>\n",
       "      <td>69943</td>\n",
       "    </tr>\n",
       "    <tr>\n",
       "      <th>10338</th>\n",
       "      <td>Fantômes à Rome</td>\n",
       "      <td>2.7</td>\n",
       "      <td>5.0</td>\n",
       "      <td>2.3</td>\n",
       "      <td>1</td>\n",
       "      <td>20</td>\n",
       "    </tr>\n",
       "    <tr>\n",
       "      <th>5819</th>\n",
       "      <td>Jet Set</td>\n",
       "      <td>1.3</td>\n",
       "      <td>3.5</td>\n",
       "      <td>2.2</td>\n",
       "      <td>19</td>\n",
       "      <td>2669</td>\n",
       "    </tr>\n",
       "    <tr>\n",
       "      <th>7011</th>\n",
       "      <td>Feux Rouges</td>\n",
       "      <td>2.3</td>\n",
       "      <td>4.4</td>\n",
       "      <td>2.1</td>\n",
       "      <td>23</td>\n",
       "      <td>412</td>\n",
       "    </tr>\n",
       "  </tbody>\n",
       "</table>\n",
       "</div>"
      ],
      "text/plain": [
       "              movie_title  user_rating  press_rating  diff_rating  \\\n",
       "2750   Les Sept Samouraïs          1.7           4.6          2.9   \n",
       "3430             L'Enfant          1.6           4.3          2.7   \n",
       "10338     Fantômes à Rome          2.7           5.0          2.3   \n",
       "5819              Jet Set          1.3           3.5          2.2   \n",
       "7011          Feux Rouges          2.3           4.4          2.1   \n",
       "\n",
       "       nber_press_vote  nber_user_vote  \n",
       "2750                14           92578  \n",
       "3430                32           69943  \n",
       "10338                1              20  \n",
       "5819                19            2669  \n",
       "7011                23             412  "
      ]
     },
     "execution_count": 41,
     "metadata": {},
     "output_type": "execute_result"
    }
   ],
   "source": [
    "# Press > user\n",
    "allocine[allocine[\"user_rating\"] < allocine[\"press_rating\"]].sort_values(by=\"diff_rating\", \n",
    "                     ascending=False)[[\"movie_title\", \"user_rating\", \n",
    "                                       \"press_rating\", \"diff_rating\", \n",
    "                                       \"nber_press_vote\", \"nber_user_vote\"]].head(5)"
   ]
  },
  {
   "cell_type": "markdown",
   "metadata": {},
   "source": [
    "### User Rating higher than Press Rating"
   ]
  },
  {
   "cell_type": "code",
   "execution_count": 42,
   "metadata": {},
   "outputs": [
    {
     "data": {
      "text/html": [
       "<div>\n",
       "<style>\n",
       "    .dataframe thead tr:only-child th {\n",
       "        text-align: right;\n",
       "    }\n",
       "\n",
       "    .dataframe thead th {\n",
       "        text-align: left;\n",
       "    }\n",
       "\n",
       "    .dataframe tbody tr th {\n",
       "        vertical-align: top;\n",
       "    }\n",
       "</style>\n",
       "<table border=\"1\" class=\"dataframe\">\n",
       "  <thead>\n",
       "    <tr style=\"text-align: right;\">\n",
       "      <th></th>\n",
       "      <th>movie_title</th>\n",
       "      <th>user_rating</th>\n",
       "      <th>press_rating</th>\n",
       "      <th>diff_rating</th>\n",
       "      <th>nber_press_vote</th>\n",
       "      <th>nber_user_vote</th>\n",
       "    </tr>\n",
       "  </thead>\n",
       "  <tbody>\n",
       "    <tr>\n",
       "      <th>6302</th>\n",
       "      <td>Gazelle</td>\n",
       "      <td>3.6</td>\n",
       "      <td>1.0</td>\n",
       "      <td>2.6</td>\n",
       "      <td>2</td>\n",
       "      <td>35</td>\n",
       "    </tr>\n",
       "    <tr>\n",
       "      <th>2290</th>\n",
       "      <td>Retour vers le futur II</td>\n",
       "      <td>4.2</td>\n",
       "      <td>1.6</td>\n",
       "      <td>2.6</td>\n",
       "      <td>5</td>\n",
       "      <td>40487</td>\n",
       "    </tr>\n",
       "    <tr>\n",
       "      <th>7401</th>\n",
       "      <td>Glee ! On Tour : Le Film 3D</td>\n",
       "      <td>3.8</td>\n",
       "      <td>1.2</td>\n",
       "      <td>2.6</td>\n",
       "      <td>10</td>\n",
       "      <td>299</td>\n",
       "    </tr>\n",
       "    <tr>\n",
       "      <th>3231</th>\n",
       "      <td>Le Tambour</td>\n",
       "      <td>3.5</td>\n",
       "      <td>1.0</td>\n",
       "      <td>2.5</td>\n",
       "      <td>1</td>\n",
       "      <td>881</td>\n",
       "    </tr>\n",
       "    <tr>\n",
       "      <th>1479</th>\n",
       "      <td>Forces spéciales</td>\n",
       "      <td>3.7</td>\n",
       "      <td>1.2</td>\n",
       "      <td>2.5</td>\n",
       "      <td>14</td>\n",
       "      <td>3062</td>\n",
       "    </tr>\n",
       "  </tbody>\n",
       "</table>\n",
       "</div>"
      ],
      "text/plain": [
       "                      movie_title  user_rating  press_rating  diff_rating  \\\n",
       "6302                      Gazelle          3.6           1.0          2.6   \n",
       "2290      Retour vers le futur II          4.2           1.6          2.6   \n",
       "7401  Glee ! On Tour : Le Film 3D          3.8           1.2          2.6   \n",
       "3231                   Le Tambour          3.5           1.0          2.5   \n",
       "1479             Forces spéciales          3.7           1.2          2.5   \n",
       "\n",
       "      nber_press_vote  nber_user_vote  \n",
       "6302                2              35  \n",
       "2290                5           40487  \n",
       "7401               10             299  \n",
       "3231                1             881  \n",
       "1479               14            3062  "
      ]
     },
     "execution_count": 42,
     "metadata": {},
     "output_type": "execute_result"
    }
   ],
   "source": [
    "# Press < user\n",
    "allocine[allocine[\"user_rating\"] > allocine[\"press_rating\"]].sort_values(by=\"diff_rating\", \n",
    "                     ascending=False)[[\"movie_title\", \"user_rating\", \n",
    "                                       \"press_rating\", \"diff_rating\", \n",
    "                                       \"nber_press_vote\", \"nber_user_vote\"]].head(5)"
   ]
  },
  {
   "cell_type": "markdown",
   "metadata": {},
   "source": [
    "### Full dataset"
   ]
  },
  {
   "cell_type": "code",
   "execution_count": 43,
   "metadata": {},
   "outputs": [
    {
     "data": {
      "text/html": [
       "<div>\n",
       "<style>\n",
       "    .dataframe thead tr:only-child th {\n",
       "        text-align: right;\n",
       "    }\n",
       "\n",
       "    .dataframe thead th {\n",
       "        text-align: left;\n",
       "    }\n",
       "\n",
       "    .dataframe tbody tr th {\n",
       "        vertical-align: top;\n",
       "    }\n",
       "</style>\n",
       "<table border=\"1\" class=\"dataframe\">\n",
       "  <thead>\n",
       "    <tr style=\"text-align: right;\">\n",
       "      <th></th>\n",
       "      <th>movie_title</th>\n",
       "      <th>user_rating</th>\n",
       "      <th>press_rating</th>\n",
       "      <th>nber_press_vote</th>\n",
       "      <th>nber_user_vote</th>\n",
       "      <th>diff_rating</th>\n",
       "    </tr>\n",
       "  </thead>\n",
       "  <tbody>\n",
       "    <tr>\n",
       "      <th>2750</th>\n",
       "      <td>Les Sept Samouraïs</td>\n",
       "      <td>1.7</td>\n",
       "      <td>4.6</td>\n",
       "      <td>14</td>\n",
       "      <td>92578</td>\n",
       "      <td>2.9</td>\n",
       "    </tr>\n",
       "    <tr>\n",
       "      <th>3430</th>\n",
       "      <td>L'Enfant</td>\n",
       "      <td>1.6</td>\n",
       "      <td>4.3</td>\n",
       "      <td>32</td>\n",
       "      <td>69943</td>\n",
       "      <td>2.7</td>\n",
       "    </tr>\n",
       "    <tr>\n",
       "      <th>6302</th>\n",
       "      <td>Gazelle</td>\n",
       "      <td>3.6</td>\n",
       "      <td>1.0</td>\n",
       "      <td>2</td>\n",
       "      <td>35</td>\n",
       "      <td>2.6</td>\n",
       "    </tr>\n",
       "    <tr>\n",
       "      <th>2290</th>\n",
       "      <td>Retour vers le futur II</td>\n",
       "      <td>4.2</td>\n",
       "      <td>1.6</td>\n",
       "      <td>5</td>\n",
       "      <td>40487</td>\n",
       "      <td>2.6</td>\n",
       "    </tr>\n",
       "    <tr>\n",
       "      <th>7401</th>\n",
       "      <td>Glee ! On Tour : Le Film 3D</td>\n",
       "      <td>3.8</td>\n",
       "      <td>1.2</td>\n",
       "      <td>10</td>\n",
       "      <td>299</td>\n",
       "      <td>2.6</td>\n",
       "    </tr>\n",
       "    <tr>\n",
       "      <th>3231</th>\n",
       "      <td>Le Tambour</td>\n",
       "      <td>3.5</td>\n",
       "      <td>1.0</td>\n",
       "      <td>1</td>\n",
       "      <td>881</td>\n",
       "      <td>2.5</td>\n",
       "    </tr>\n",
       "    <tr>\n",
       "      <th>6784</th>\n",
       "      <td>Lumière</td>\n",
       "      <td>3.8</td>\n",
       "      <td>1.3</td>\n",
       "      <td>7</td>\n",
       "      <td>53</td>\n",
       "      <td>2.5</td>\n",
       "    </tr>\n",
       "    <tr>\n",
       "      <th>1479</th>\n",
       "      <td>Forces spéciales</td>\n",
       "      <td>3.7</td>\n",
       "      <td>1.2</td>\n",
       "      <td>14</td>\n",
       "      <td>3062</td>\n",
       "      <td>2.5</td>\n",
       "    </tr>\n",
       "    <tr>\n",
       "      <th>1296</th>\n",
       "      <td>Arnaques, crimes et botanique</td>\n",
       "      <td>4.1</td>\n",
       "      <td>1.6</td>\n",
       "      <td>5</td>\n",
       "      <td>13078</td>\n",
       "      <td>2.5</td>\n",
       "    </tr>\n",
       "    <tr>\n",
       "      <th>8012</th>\n",
       "      <td>Le Monde Doit M'Arriver (?)</td>\n",
       "      <td>4.0</td>\n",
       "      <td>1.6</td>\n",
       "      <td>5</td>\n",
       "      <td>51</td>\n",
       "      <td>2.4</td>\n",
       "    </tr>\n",
       "  </tbody>\n",
       "</table>\n",
       "</div>"
      ],
      "text/plain": [
       "                        movie_title  user_rating  press_rating  \\\n",
       "2750             Les Sept Samouraïs          1.7           4.6   \n",
       "3430                       L'Enfant          1.6           4.3   \n",
       "6302                        Gazelle          3.6           1.0   \n",
       "2290        Retour vers le futur II          4.2           1.6   \n",
       "7401    Glee ! On Tour : Le Film 3D          3.8           1.2   \n",
       "3231                     Le Tambour          3.5           1.0   \n",
       "6784                        Lumière          3.8           1.3   \n",
       "1479               Forces spéciales          3.7           1.2   \n",
       "1296  Arnaques, crimes et botanique          4.1           1.6   \n",
       "8012    Le Monde Doit M'Arriver (?)          4.0           1.6   \n",
       "\n",
       "      nber_press_vote  nber_user_vote  diff_rating  \n",
       "2750               14           92578          2.9  \n",
       "3430               32           69943          2.7  \n",
       "6302                2              35          2.6  \n",
       "2290                5           40487          2.6  \n",
       "7401               10             299          2.6  \n",
       "3231                1             881          2.5  \n",
       "6784                7              53          2.5  \n",
       "1479               14            3062          2.5  \n",
       "1296                5           13078          2.5  \n",
       "8012                5              51          2.4  "
      ]
     },
     "execution_count": 43,
     "metadata": {},
     "output_type": "execute_result"
    }
   ],
   "source": [
    "# Full dataset\n",
    "allocine.sort_values(by=\"diff_rating\", \n",
    "                     ascending=False)[[\"movie_title\", \"user_rating\", \n",
    "                                       \"press_rating\", \"nber_press_vote\", \n",
    "                                       \"nber_user_vote\", \"diff_rating\"]].head(10)"
   ]
  },
  {
   "cell_type": "markdown",
   "metadata": {},
   "source": [
    "### Descriptive Statistics"
   ]
  },
  {
   "cell_type": "code",
   "execution_count": 44,
   "metadata": {},
   "outputs": [
    {
     "data": {
      "text/html": [
       "<div>\n",
       "<style>\n",
       "    .dataframe thead tr:only-child th {\n",
       "        text-align: right;\n",
       "    }\n",
       "\n",
       "    .dataframe thead th {\n",
       "        text-align: left;\n",
       "    }\n",
       "\n",
       "    .dataframe tbody tr th {\n",
       "        vertical-align: top;\n",
       "    }\n",
       "</style>\n",
       "<table border=\"1\" class=\"dataframe\">\n",
       "  <thead>\n",
       "    <tr style=\"text-align: right;\">\n",
       "      <th></th>\n",
       "      <th>count</th>\n",
       "      <th>mean</th>\n",
       "      <th>std</th>\n",
       "      <th>min</th>\n",
       "      <th>25%</th>\n",
       "      <th>50%</th>\n",
       "      <th>75%</th>\n",
       "      <th>max</th>\n",
       "    </tr>\n",
       "  </thead>\n",
       "  <tbody>\n",
       "    <tr>\n",
       "      <th>nber_user_vote</th>\n",
       "      <td>10424.0</td>\n",
       "      <td>2582.144666</td>\n",
       "      <td>8288.305189</td>\n",
       "      <td>1.0</td>\n",
       "      <td>51.0</td>\n",
       "      <td>320.0</td>\n",
       "      <td>1670.25</td>\n",
       "      <td>200340.0</td>\n",
       "    </tr>\n",
       "  </tbody>\n",
       "</table>\n",
       "</div>"
      ],
      "text/plain": [
       "                  count         mean          std  min   25%    50%      75%  \\\n",
       "nber_user_vote  10424.0  2582.144666  8288.305189  1.0  51.0  320.0  1670.25   \n",
       "\n",
       "                     max  \n",
       "nber_user_vote  200340.0  "
      ]
     },
     "execution_count": 44,
     "metadata": {},
     "output_type": "execute_result"
    }
   ],
   "source": [
    "allocine[[\"nber_user_vote\"]].describe().T"
   ]
  },
  {
   "cell_type": "code",
   "execution_count": 45,
   "metadata": {},
   "outputs": [
    {
     "data": {
      "text/html": [
       "<div>\n",
       "<style>\n",
       "    .dataframe thead tr:only-child th {\n",
       "        text-align: right;\n",
       "    }\n",
       "\n",
       "    .dataframe thead th {\n",
       "        text-align: left;\n",
       "    }\n",
       "\n",
       "    .dataframe tbody tr th {\n",
       "        vertical-align: top;\n",
       "    }\n",
       "</style>\n",
       "<table border=\"1\" class=\"dataframe\">\n",
       "  <thead>\n",
       "    <tr style=\"text-align: right;\">\n",
       "      <th></th>\n",
       "      <th>movie_title</th>\n",
       "      <th>nber_user_vote</th>\n",
       "    </tr>\n",
       "  </thead>\n",
       "  <tbody>\n",
       "    <tr>\n",
       "      <th>1979</th>\n",
       "      <td>Les 4 Fantastiques</td>\n",
       "      <td>200340</td>\n",
       "    </tr>\n",
       "    <tr>\n",
       "      <th>889</th>\n",
       "      <td>Camping</td>\n",
       "      <td>190387</td>\n",
       "    </tr>\n",
       "    <tr>\n",
       "      <th>2851</th>\n",
       "      <td>Tanguy</td>\n",
       "      <td>171669</td>\n",
       "    </tr>\n",
       "    <tr>\n",
       "      <th>2169</th>\n",
       "      <td>Bad Boys</td>\n",
       "      <td>168192</td>\n",
       "    </tr>\n",
       "    <tr>\n",
       "      <th>841</th>\n",
       "      <td>Top Gun</td>\n",
       "      <td>165160</td>\n",
       "    </tr>\n",
       "    <tr>\n",
       "      <th>321</th>\n",
       "      <td>Les Infiltrés</td>\n",
       "      <td>153711</td>\n",
       "    </tr>\n",
       "    <tr>\n",
       "      <th>411</th>\n",
       "      <td>Le Grand Bleu</td>\n",
       "      <td>149861</td>\n",
       "    </tr>\n",
       "    <tr>\n",
       "      <th>1027</th>\n",
       "      <td>Nikita</td>\n",
       "      <td>135705</td>\n",
       "    </tr>\n",
       "    <tr>\n",
       "      <th>525</th>\n",
       "      <td>Will Hunting</td>\n",
       "      <td>133995</td>\n",
       "    </tr>\n",
       "    <tr>\n",
       "      <th>3864</th>\n",
       "      <td>Palais Royal!</td>\n",
       "      <td>120968</td>\n",
       "    </tr>\n",
       "    <tr>\n",
       "      <th>385</th>\n",
       "      <td>Harry, un ami qui vous veut du bien</td>\n",
       "      <td>115090</td>\n",
       "    </tr>\n",
       "    <tr>\n",
       "      <th>796</th>\n",
       "      <td>Les enfants du marais</td>\n",
       "      <td>100645</td>\n",
       "    </tr>\n",
       "    <tr>\n",
       "      <th>2750</th>\n",
       "      <td>Les Sept Samouraïs</td>\n",
       "      <td>92578</td>\n",
       "    </tr>\n",
       "    <tr>\n",
       "      <th>609</th>\n",
       "      <td>Le Seigneur des anneaux : le retour du roi</td>\n",
       "      <td>85837</td>\n",
       "    </tr>\n",
       "    <tr>\n",
       "      <th>332</th>\n",
       "      <td>Avatar</td>\n",
       "      <td>81822</td>\n",
       "    </tr>\n",
       "    <tr>\n",
       "      <th>1398</th>\n",
       "      <td>Le Vent se lève</td>\n",
       "      <td>78498</td>\n",
       "    </tr>\n",
       "    <tr>\n",
       "      <th>201</th>\n",
       "      <td>Forrest Gump</td>\n",
       "      <td>75427</td>\n",
       "    </tr>\n",
       "    <tr>\n",
       "      <th>480</th>\n",
       "      <td>Le Seigneur des anneaux : la communauté de l'a...</td>\n",
       "      <td>72198</td>\n",
       "    </tr>\n",
       "    <tr>\n",
       "      <th>334</th>\n",
       "      <td>Intouchables</td>\n",
       "      <td>71488</td>\n",
       "    </tr>\n",
       "    <tr>\n",
       "      <th>3430</th>\n",
       "      <td>L'Enfant</td>\n",
       "      <td>69943</td>\n",
       "    </tr>\n",
       "  </tbody>\n",
       "</table>\n",
       "</div>"
      ],
      "text/plain": [
       "                                            movie_title  nber_user_vote\n",
       "1979                                 Les 4 Fantastiques          200340\n",
       "889                                             Camping          190387\n",
       "2851                                             Tanguy          171669\n",
       "2169                                           Bad Boys          168192\n",
       "841                                             Top Gun          165160\n",
       "321                                       Les Infiltrés          153711\n",
       "411                                       Le Grand Bleu          149861\n",
       "1027                                             Nikita          135705\n",
       "525                                        Will Hunting          133995\n",
       "3864                                      Palais Royal!          120968\n",
       "385                 Harry, un ami qui vous veut du bien          115090\n",
       "796                               Les enfants du marais          100645\n",
       "2750                                 Les Sept Samouraïs           92578\n",
       "609          Le Seigneur des anneaux : le retour du roi           85837\n",
       "332                                              Avatar           81822\n",
       "1398                                    Le Vent se lève           78498\n",
       "201                                        Forrest Gump           75427\n",
       "480   Le Seigneur des anneaux : la communauté de l'a...           72198\n",
       "334                                        Intouchables           71488\n",
       "3430                                           L'Enfant           69943"
      ]
     },
     "execution_count": 45,
     "metadata": {},
     "output_type": "execute_result"
    }
   ],
   "source": [
    "allocine[[\"movie_title\", \"nber_user_vote\"]].sort_values(by=\"nber_user_vote\", ascending=False).head(20)"
   ]
  },
  {
   "cell_type": "markdown",
   "metadata": {},
   "source": [
    "# Section 4. AlloCiné Users Ratings Analysis\n",
    "## Top 10 Movies"
   ]
  },
  {
   "cell_type": "code",
   "execution_count": 46,
   "metadata": {},
   "outputs": [
    {
     "data": {
      "text/html": [
       "<div>\n",
       "<style>\n",
       "    .dataframe thead tr:only-child th {\n",
       "        text-align: right;\n",
       "    }\n",
       "\n",
       "    .dataframe thead th {\n",
       "        text-align: left;\n",
       "    }\n",
       "\n",
       "    .dataframe tbody tr th {\n",
       "        vertical-align: top;\n",
       "    }\n",
       "</style>\n",
       "<table border=\"1\" class=\"dataframe\">\n",
       "  <thead>\n",
       "    <tr style=\"text-align: right;\">\n",
       "      <th></th>\n",
       "      <th>movie_title</th>\n",
       "      <th>user_rating</th>\n",
       "      <th>press_rating</th>\n",
       "    </tr>\n",
       "  </thead>\n",
       "  <tbody>\n",
       "    <tr>\n",
       "      <th>306</th>\n",
       "      <td>Les Pépites</td>\n",
       "      <td>4.7</td>\n",
       "      <td>3.3</td>\n",
       "    </tr>\n",
       "    <tr>\n",
       "      <th>486</th>\n",
       "      <td>Demain</td>\n",
       "      <td>4.6</td>\n",
       "      <td>3.8</td>\n",
       "    </tr>\n",
       "    <tr>\n",
       "      <th>720</th>\n",
       "      <td>Et les mistrals gagnants</td>\n",
       "      <td>4.6</td>\n",
       "      <td>3.9</td>\n",
       "    </tr>\n",
       "    <tr>\n",
       "      <th>201</th>\n",
       "      <td>Forrest Gump</td>\n",
       "      <td>4.6</td>\n",
       "      <td>2.6</td>\n",
       "    </tr>\n",
       "    <tr>\n",
       "      <th>204</th>\n",
       "      <td>La Ligne verte</td>\n",
       "      <td>4.6</td>\n",
       "      <td>2.8</td>\n",
       "    </tr>\n",
       "  </tbody>\n",
       "</table>\n",
       "</div>"
      ],
      "text/plain": [
       "                  movie_title  user_rating  press_rating\n",
       "306               Les Pépites          4.7           3.3\n",
       "486                    Demain          4.6           3.8\n",
       "720  Et les mistrals gagnants          4.6           3.9\n",
       "201              Forrest Gump          4.6           2.6\n",
       "204            La Ligne verte          4.6           2.8"
      ]
     },
     "execution_count": 46,
     "metadata": {},
     "output_type": "execute_result"
    }
   ],
   "source": [
    "# Top 5 movies as rated by AlloCiné users\n",
    "allocine.sort_values(by=\"user_rating\", ascending=False)[[\"movie_title\", \"user_rating\", \"press_rating\"]].head(5)"
   ]
  },
  {
   "cell_type": "markdown",
   "metadata": {},
   "source": [
    "## Top 10 Actors"
   ]
  },
  {
   "cell_type": "code",
   "execution_count": 47,
   "metadata": {
    "collapsed": true
   },
   "outputs": [],
   "source": [
    "# reshape the data for actors, directors, nationality or genre columns (col)\n",
    "def reshaping(df, col):\n",
    "    if col in [\"genre\", \"directors\", \"actors\", \"nationality\"]:\n",
    "        c = []\n",
    "        movie_ids = []\n",
    "        press_ratings = []\n",
    "        spect_ratings = []\n",
    "\n",
    "        for row_id, row in enumerate(df[col]):\n",
    "            for column in row:\n",
    "                c.append(column)\n",
    "                movie_ids.append(row_id)\n",
    "                press_ratings.append(df[\"press_rating\"][row_id])\n",
    "                spect_ratings.append(df[\"user_rating\"][row_id])\n",
    "\n",
    "        return pd.DataFrame({col: c, \"movie_ids\": movie_ids,\n",
    "                             \"press_ratings\": press_ratings, \"user_rating\": spect_ratings})\n",
    "    else:\n",
    "        print('Error : bad column name.')"
   ]
  },
  {
   "cell_type": "code",
   "execution_count": 48,
   "metadata": {
    "collapsed": true
   },
   "outputs": [],
   "source": [
    "# reshape the data to a new dataframe\n",
    "df_actor = reshaping(allocine, \"actors\")"
   ]
  },
  {
   "cell_type": "code",
   "execution_count": 49,
   "metadata": {
    "collapsed": true
   },
   "outputs": [],
   "source": [
    "# groupby actor\n",
    "top_actor = df_actor.groupby(\"actors\").agg({\n",
    "    \"press_ratings\" : \"mean\", \n",
    "    \"user_rating\" : \"mean\",\n",
    "    \"movie_ids\" : \"count\"}).sort_values(by=\"user_rating\", ascending=False)"
   ]
  },
  {
   "cell_type": "code",
   "execution_count": 50,
   "metadata": {},
   "outputs": [
    {
     "data": {
      "text/html": [
       "<div>\n",
       "<style>\n",
       "    .dataframe thead tr:only-child th {\n",
       "        text-align: right;\n",
       "    }\n",
       "\n",
       "    .dataframe thead th {\n",
       "        text-align: left;\n",
       "    }\n",
       "\n",
       "    .dataframe tbody tr th {\n",
       "        vertical-align: top;\n",
       "    }\n",
       "</style>\n",
       "<table border=\"1\" class=\"dataframe\">\n",
       "  <thead>\n",
       "    <tr style=\"text-align: right;\">\n",
       "      <th></th>\n",
       "      <th>user_rating</th>\n",
       "      <th>press_ratings</th>\n",
       "      <th>movie_ids</th>\n",
       "    </tr>\n",
       "    <tr>\n",
       "      <th>actors</th>\n",
       "      <th></th>\n",
       "      <th></th>\n",
       "      <th></th>\n",
       "    </tr>\n",
       "  </thead>\n",
       "  <tbody>\n",
       "    <tr>\n",
       "      <th>Mark Hamill</th>\n",
       "      <td>4.400000</td>\n",
       "      <td>4.166667</td>\n",
       "      <td>3</td>\n",
       "    </tr>\n",
       "    <tr>\n",
       "      <th>Sean Astin</th>\n",
       "      <td>4.350000</td>\n",
       "      <td>3.750000</td>\n",
       "      <td>4</td>\n",
       "    </tr>\n",
       "    <tr>\n",
       "      <th>Joe Pesci</th>\n",
       "      <td>4.300000</td>\n",
       "      <td>4.800000</td>\n",
       "      <td>3</td>\n",
       "    </tr>\n",
       "    <tr>\n",
       "      <th>Charles Chaplin</th>\n",
       "      <td>4.257143</td>\n",
       "      <td>4.442857</td>\n",
       "      <td>7</td>\n",
       "    </tr>\n",
       "    <tr>\n",
       "      <th>Masami Nagasawa</th>\n",
       "      <td>4.200000</td>\n",
       "      <td>3.666667</td>\n",
       "      <td>3</td>\n",
       "    </tr>\n",
       "    <tr>\n",
       "      <th>Taron Egerton</th>\n",
       "      <td>4.166667</td>\n",
       "      <td>3.600000</td>\n",
       "      <td>3</td>\n",
       "    </tr>\n",
       "    <tr>\n",
       "      <th>Shelley Duvall</th>\n",
       "      <td>4.100000</td>\n",
       "      <td>4.666667</td>\n",
       "      <td>3</td>\n",
       "    </tr>\n",
       "    <tr>\n",
       "      <th>Lino Ventura</th>\n",
       "      <td>4.100000</td>\n",
       "      <td>4.366667</td>\n",
       "      <td>3</td>\n",
       "    </tr>\n",
       "    <tr>\n",
       "      <th>Anne Dorval</th>\n",
       "      <td>4.100000</td>\n",
       "      <td>3.866667</td>\n",
       "      <td>3</td>\n",
       "    </tr>\n",
       "    <tr>\n",
       "      <th>Martin Sheen</th>\n",
       "      <td>4.100000</td>\n",
       "      <td>3.800000</td>\n",
       "      <td>4</td>\n",
       "    </tr>\n",
       "  </tbody>\n",
       "</table>\n",
       "</div>"
      ],
      "text/plain": [
       "                 user_rating  press_ratings  movie_ids\n",
       "actors                                                \n",
       "Mark Hamill         4.400000       4.166667          3\n",
       "Sean Astin          4.350000       3.750000          4\n",
       "Joe Pesci           4.300000       4.800000          3\n",
       "Charles Chaplin     4.257143       4.442857          7\n",
       "Masami Nagasawa     4.200000       3.666667          3\n",
       "Taron Egerton       4.166667       3.600000          3\n",
       "Shelley Duvall      4.100000       4.666667          3\n",
       "Lino Ventura        4.100000       4.366667          3\n",
       "Anne Dorval         4.100000       3.866667          3\n",
       "Martin Sheen        4.100000       3.800000          4"
      ]
     },
     "execution_count": 50,
     "metadata": {},
     "output_type": "execute_result"
    }
   ],
   "source": [
    "# top actor who played in more than two movies (less than a half std of the mean)\n",
    "top_actor[top_actor[\"movie_ids\"] > top_actor[\"movie_ids\"].mean() - 1/2 * (top_actor[\"movie_ids\"].std()**(-2))].head(10)"
   ]
  },
  {
   "cell_type": "markdown",
   "metadata": {},
   "source": [
    "## Top 10 Genre"
   ]
  },
  {
   "cell_type": "code",
   "execution_count": 51,
   "metadata": {
    "collapsed": true
   },
   "outputs": [],
   "source": [
    "# reshape the data to a new dataframe\n",
    "df_genre  = reshaping(allocine, \"genre\")"
   ]
  },
  {
   "cell_type": "code",
   "execution_count": 52,
   "metadata": {
    "collapsed": true
   },
   "outputs": [],
   "source": [
    "# analysis \n",
    "top_genre = df_genre.groupby(\"genre\").agg({\n",
    "    \"press_ratings\" : \"mean\", \n",
    "    \"user_rating\" : \"mean\",\n",
    "    \"movie_ids\" : \"count\"}).sort_values(by=\"user_rating\", ascending=False)"
   ]
  },
  {
   "cell_type": "code",
   "execution_count": 53,
   "metadata": {},
   "outputs": [
    {
     "data": {
      "text/html": [
       "<div>\n",
       "<style>\n",
       "    .dataframe thead tr:only-child th {\n",
       "        text-align: right;\n",
       "    }\n",
       "\n",
       "    .dataframe thead th {\n",
       "        text-align: left;\n",
       "    }\n",
       "\n",
       "    .dataframe tbody tr th {\n",
       "        vertical-align: top;\n",
       "    }\n",
       "</style>\n",
       "<table border=\"1\" class=\"dataframe\">\n",
       "  <thead>\n",
       "    <tr style=\"text-align: right;\">\n",
       "      <th></th>\n",
       "      <th>user_rating</th>\n",
       "      <th>press_ratings</th>\n",
       "      <th>movie_ids</th>\n",
       "    </tr>\n",
       "    <tr>\n",
       "      <th>genre</th>\n",
       "      <th></th>\n",
       "      <th></th>\n",
       "      <th></th>\n",
       "    </tr>\n",
       "  </thead>\n",
       "  <tbody>\n",
       "    <tr>\n",
       "      <th>Animation</th>\n",
       "      <td>3.366667</td>\n",
       "      <td>3.399619</td>\n",
       "      <td>525</td>\n",
       "    </tr>\n",
       "    <tr>\n",
       "      <th>Documentaire</th>\n",
       "      <td>3.343469</td>\n",
       "      <td>3.420794</td>\n",
       "      <td>957</td>\n",
       "    </tr>\n",
       "    <tr>\n",
       "      <th>Drame</th>\n",
       "      <td>3.269806</td>\n",
       "      <td>3.371131</td>\n",
       "      <td>4226</td>\n",
       "    </tr>\n",
       "    <tr>\n",
       "      <th>Aventure</th>\n",
       "      <td>3.172289</td>\n",
       "      <td>3.164458</td>\n",
       "      <td>664</td>\n",
       "    </tr>\n",
       "    <tr>\n",
       "      <th>Romance</th>\n",
       "      <td>3.157143</td>\n",
       "      <td>3.191254</td>\n",
       "      <td>1029</td>\n",
       "    </tr>\n",
       "    <tr>\n",
       "      <th>Comédie dramatique</th>\n",
       "      <td>3.120385</td>\n",
       "      <td>3.284252</td>\n",
       "      <td>1143</td>\n",
       "    </tr>\n",
       "    <tr>\n",
       "      <th>Policier</th>\n",
       "      <td>3.103252</td>\n",
       "      <td>3.260976</td>\n",
       "      <td>615</td>\n",
       "    </tr>\n",
       "    <tr>\n",
       "      <th>Thriller</th>\n",
       "      <td>3.066183</td>\n",
       "      <td>3.090992</td>\n",
       "      <td>1310</td>\n",
       "    </tr>\n",
       "    <tr>\n",
       "      <th>Action</th>\n",
       "      <td>3.044076</td>\n",
       "      <td>2.905332</td>\n",
       "      <td>844</td>\n",
       "    </tr>\n",
       "    <tr>\n",
       "      <th>Fantastique</th>\n",
       "      <td>3.009076</td>\n",
       "      <td>3.049916</td>\n",
       "      <td>595</td>\n",
       "    </tr>\n",
       "  </tbody>\n",
       "</table>\n",
       "</div>"
      ],
      "text/plain": [
       "                    user_rating  press_ratings  movie_ids\n",
       "genre                                                    \n",
       "Animation              3.366667       3.399619        525\n",
       "Documentaire           3.343469       3.420794        957\n",
       "Drame                  3.269806       3.371131       4226\n",
       "Aventure               3.172289       3.164458        664\n",
       "Romance                3.157143       3.191254       1029\n",
       "Comédie dramatique     3.120385       3.284252       1143\n",
       "Policier               3.103252       3.260976        615\n",
       "Thriller               3.066183       3.090992       1310\n",
       "Action                 3.044076       2.905332        844\n",
       "Fantastique            3.009076       3.049916        595"
      ]
     },
     "execution_count": 53,
     "metadata": {},
     "output_type": "execute_result"
    }
   ],
   "source": [
    "top_genre[top_genre[\"movie_ids\"] >= top_genre[\"movie_ids\"].mean() - 2*(top_genre[\"movie_ids\"].std()**(-2))].head(10)"
   ]
  },
  {
   "cell_type": "markdown",
   "metadata": {},
   "source": [
    "## Top 10 Director"
   ]
  },
  {
   "cell_type": "code",
   "execution_count": 54,
   "metadata": {
    "collapsed": true
   },
   "outputs": [],
   "source": [
    "# reshape the data to a new dataframe\n",
    "df_director  = reshaping(allocine, \"directors\")"
   ]
  },
  {
   "cell_type": "code",
   "execution_count": 55,
   "metadata": {
    "collapsed": true
   },
   "outputs": [],
   "source": [
    "# analysis \n",
    "top_director = df_director.groupby(\"directors\").agg({\n",
    "    \"press_ratings\" : \"mean\", \n",
    "    \"user_rating\" : \"mean\",\n",
    "    \"movie_ids\" : \"count\"}).sort_values(by=\"user_rating\", ascending=False)"
   ]
  },
  {
   "cell_type": "code",
   "execution_count": 56,
   "metadata": {},
   "outputs": [
    {
     "data": {
      "text/html": [
       "<div>\n",
       "<style>\n",
       "    .dataframe thead tr:only-child th {\n",
       "        text-align: right;\n",
       "    }\n",
       "\n",
       "    .dataframe thead th {\n",
       "        text-align: left;\n",
       "    }\n",
       "\n",
       "    .dataframe tbody tr th {\n",
       "        vertical-align: top;\n",
       "    }\n",
       "</style>\n",
       "<table border=\"1\" class=\"dataframe\">\n",
       "  <thead>\n",
       "    <tr style=\"text-align: right;\">\n",
       "      <th></th>\n",
       "      <th>user_rating</th>\n",
       "      <th>press_ratings</th>\n",
       "      <th>movie_ids</th>\n",
       "    </tr>\n",
       "    <tr>\n",
       "      <th>directors</th>\n",
       "      <th></th>\n",
       "      <th></th>\n",
       "      <th></th>\n",
       "    </tr>\n",
       "  </thead>\n",
       "  <tbody>\n",
       "    <tr>\n",
       "      <th>Pete Docter</th>\n",
       "      <td>4.300000</td>\n",
       "      <td>4.600000</td>\n",
       "      <td>3</td>\n",
       "    </tr>\n",
       "    <tr>\n",
       "      <th>Charles Chaplin</th>\n",
       "      <td>4.257143</td>\n",
       "      <td>4.442857</td>\n",
       "      <td>7</td>\n",
       "    </tr>\n",
       "    <tr>\n",
       "      <th>Sergio Leone</th>\n",
       "      <td>4.242857</td>\n",
       "      <td>3.857143</td>\n",
       "      <td>7</td>\n",
       "    </tr>\n",
       "    <tr>\n",
       "      <th>Quentin Tarantino</th>\n",
       "      <td>4.200000</td>\n",
       "      <td>3.987500</td>\n",
       "      <td>8</td>\n",
       "    </tr>\n",
       "    <tr>\n",
       "      <th>Christopher Nolan</th>\n",
       "      <td>4.190000</td>\n",
       "      <td>3.770000</td>\n",
       "      <td>10</td>\n",
       "    </tr>\n",
       "    <tr>\n",
       "      <th>Peter Jackson</th>\n",
       "      <td>4.150000</td>\n",
       "      <td>3.587500</td>\n",
       "      <td>8</td>\n",
       "    </tr>\n",
       "    <tr>\n",
       "      <th>Dean DeBlois</th>\n",
       "      <td>4.100000</td>\n",
       "      <td>3.833333</td>\n",
       "      <td>3</td>\n",
       "    </tr>\n",
       "    <tr>\n",
       "      <th>Tomm Moore</th>\n",
       "      <td>4.066667</td>\n",
       "      <td>3.633333</td>\n",
       "      <td>3</td>\n",
       "    </tr>\n",
       "    <tr>\n",
       "      <th>Richard Curtis</th>\n",
       "      <td>4.066667</td>\n",
       "      <td>3.300000</td>\n",
       "      <td>3</td>\n",
       "    </tr>\n",
       "    <tr>\n",
       "      <th>Byron Howard</th>\n",
       "      <td>4.066667</td>\n",
       "      <td>3.900000</td>\n",
       "      <td>3</td>\n",
       "    </tr>\n",
       "  </tbody>\n",
       "</table>\n",
       "</div>"
      ],
      "text/plain": [
       "                   user_rating  press_ratings  movie_ids\n",
       "directors                                               \n",
       "Pete Docter           4.300000       4.600000          3\n",
       "Charles Chaplin       4.257143       4.442857          7\n",
       "Sergio Leone          4.242857       3.857143          7\n",
       "Quentin Tarantino     4.200000       3.987500          8\n",
       "Christopher Nolan     4.190000       3.770000         10\n",
       "Peter Jackson         4.150000       3.587500          8\n",
       "Dean DeBlois          4.100000       3.833333          3\n",
       "Tomm Moore            4.066667       3.633333          3\n",
       "Richard Curtis        4.066667       3.300000          3\n",
       "Byron Howard          4.066667       3.900000          3"
      ]
     },
     "execution_count": 56,
     "metadata": {},
     "output_type": "execute_result"
    }
   ],
   "source": [
    "top_director[top_director[\"movie_ids\"] > top_director[\"movie_ids\"].mean() - 1/2 * (top_director[\"movie_ids\"].std()**(-2))].head(10)"
   ]
  }
 ],
 "metadata": {
  "kernelspec": {
   "display_name": "Python [conda root]",
   "language": "python",
   "name": "conda-root-py"
  },
  "language_info": {
   "codemirror_mode": {
    "name": "ipython",
    "version": 3
   },
   "file_extension": ".py",
   "mimetype": "text/x-python",
   "name": "python",
   "nbconvert_exporter": "python",
   "pygments_lexer": "ipython3",
   "version": "3.5.3"
  }
 },
 "nbformat": 4,
 "nbformat_minor": 2
}
